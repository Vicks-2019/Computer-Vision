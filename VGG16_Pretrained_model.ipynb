{
  "nbformat": 4,
  "nbformat_minor": 0,
  "metadata": {
    "colab": {
      "name": "VGG16_Pretrained_model.ipynb",
      "provenance": [],
      "mount_file_id": "1IUGx-AB99s1KE_2B-t8ZcBSCPCbOta2r",
      "authorship_tag": "ABX9TyNiGTBP+fKH9bsZrphPm//+",
      "include_colab_link": true
    },
    "kernelspec": {
      "name": "python3",
      "display_name": "Python 3"
    }
  },
  "cells": [
    {
      "cell_type": "markdown",
      "metadata": {
        "id": "view-in-github",
        "colab_type": "text"
      },
      "source": [
        "<a href=\"https://colab.research.google.com/github/Vicks-2019/Computer-Vision/blob/master/VGG16_Pretrained_model.ipynb\" target=\"_parent\"><img src=\"https://colab.research.google.com/assets/colab-badge.svg\" alt=\"Open In Colab\"/></a>"
      ]
    },
    {
      "cell_type": "code",
      "metadata": {
        "colab": {
          "base_uri": "https://localhost:8080/"
        },
        "id": "nHv4BjE8vZ8s",
        "outputId": "d36b2ae4-147a-471e-b2b7-6a1d7509b08c"
      },
      "source": [
        "from keras.applications.vgg16 import VGG16\r\n",
        "# load model\r\n",
        "model = VGG16()\r\n",
        "# summarize the model"
      ],
      "execution_count": 1,
      "outputs": [
        {
          "output_type": "stream",
          "text": [
            "Downloading data from https://storage.googleapis.com/tensorflow/keras-applications/vgg16/vgg16_weights_tf_dim_ordering_tf_kernels.h5\n",
            "553467904/553467096 [==============================] - 14s 0us/step\n"
          ],
          "name": "stdout"
        }
      ]
    },
    {
      "cell_type": "code",
      "metadata": {
        "colab": {
          "base_uri": "https://localhost:8080/"
        },
        "id": "q3qUqwtfvktC",
        "outputId": "b9d66a12-4ff5-4188-8f76-1a84eb31035d"
      },
      "source": [
        "#The model can then be used directly to classify a photograph into one of 1,000 classes.\r\n",
        "model.summary()"
      ],
      "execution_count": 2,
      "outputs": [
        {
          "output_type": "stream",
          "text": [
            "Model: \"vgg16\"\n",
            "_________________________________________________________________\n",
            "Layer (type)                 Output Shape              Param #   \n",
            "=================================================================\n",
            "input_1 (InputLayer)         [(None, 224, 224, 3)]     0         \n",
            "_________________________________________________________________\n",
            "block1_conv1 (Conv2D)        (None, 224, 224, 64)      1792      \n",
            "_________________________________________________________________\n",
            "block1_conv2 (Conv2D)        (None, 224, 224, 64)      36928     \n",
            "_________________________________________________________________\n",
            "block1_pool (MaxPooling2D)   (None, 112, 112, 64)      0         \n",
            "_________________________________________________________________\n",
            "block2_conv1 (Conv2D)        (None, 112, 112, 128)     73856     \n",
            "_________________________________________________________________\n",
            "block2_conv2 (Conv2D)        (None, 112, 112, 128)     147584    \n",
            "_________________________________________________________________\n",
            "block2_pool (MaxPooling2D)   (None, 56, 56, 128)       0         \n",
            "_________________________________________________________________\n",
            "block3_conv1 (Conv2D)        (None, 56, 56, 256)       295168    \n",
            "_________________________________________________________________\n",
            "block3_conv2 (Conv2D)        (None, 56, 56, 256)       590080    \n",
            "_________________________________________________________________\n",
            "block3_conv3 (Conv2D)        (None, 56, 56, 256)       590080    \n",
            "_________________________________________________________________\n",
            "block3_pool (MaxPooling2D)   (None, 28, 28, 256)       0         \n",
            "_________________________________________________________________\n",
            "block4_conv1 (Conv2D)        (None, 28, 28, 512)       1180160   \n",
            "_________________________________________________________________\n",
            "block4_conv2 (Conv2D)        (None, 28, 28, 512)       2359808   \n",
            "_________________________________________________________________\n",
            "block4_conv3 (Conv2D)        (None, 28, 28, 512)       2359808   \n",
            "_________________________________________________________________\n",
            "block4_pool (MaxPooling2D)   (None, 14, 14, 512)       0         \n",
            "_________________________________________________________________\n",
            "block5_conv1 (Conv2D)        (None, 14, 14, 512)       2359808   \n",
            "_________________________________________________________________\n",
            "block5_conv2 (Conv2D)        (None, 14, 14, 512)       2359808   \n",
            "_________________________________________________________________\n",
            "block5_conv3 (Conv2D)        (None, 14, 14, 512)       2359808   \n",
            "_________________________________________________________________\n",
            "block5_pool (MaxPooling2D)   (None, 7, 7, 512)         0         \n",
            "_________________________________________________________________\n",
            "flatten (Flatten)            (None, 25088)             0         \n",
            "_________________________________________________________________\n",
            "fc1 (Dense)                  (None, 4096)              102764544 \n",
            "_________________________________________________________________\n",
            "fc2 (Dense)                  (None, 4096)              16781312  \n",
            "_________________________________________________________________\n",
            "predictions (Dense)          (None, 1000)              4097000   \n",
            "=================================================================\n",
            "Total params: 138,357,544\n",
            "Trainable params: 138,357,544\n",
            "Non-trainable params: 0\n",
            "_________________________________________________________________\n"
          ],
          "name": "stdout"
        }
      ]
    },
    {
      "cell_type": "code",
      "metadata": {
        "id": "ssEgddqKvyx5"
      },
      "source": [
        "from keras.preprocessing.image import load_img\r\n",
        "from keras.applications.imagenet_utils import preprocess_input\r\n",
        "import numpy as np\r\n",
        "# load an image from file\r\n",
        "image = load_img('/content/drive/MyDrive/DIGI5_MEDIA/0010-000167-before.jpg', target_size=(224, 224))\r\n",
        "\r\n",
        "# convert the image pixels to a numpy array\r\n",
        "image = np.array(image)\r\n",
        "\r\n",
        "\r\n",
        "# reshape data for the model\r\n",
        "image = image.reshape((1, image.shape[0], image.shape[1], image.shape[2]))\r\n",
        "\r\n",
        "# prepare the image for the VGG model\r\n",
        "image = preprocess_input(image)\r\n",
        "#image"
      ],
      "execution_count": 11,
      "outputs": []
    },
    {
      "cell_type": "code",
      "metadata": {
        "id": "nO0SvPqIwBF3"
      },
      "source": [
        "\r\n",
        "# predict the probability across all output classes\r\n",
        "\r\n",
        "\r\n",
        "y_pred = model.predict(image)\r\n",
        "#yhat"
      ],
      "execution_count": 12,
      "outputs": []
    },
    {
      "cell_type": "code",
      "metadata": {
        "colab": {
          "base_uri": "https://localhost:8080/"
        },
        "id": "-uWrLg5Zw2n4",
        "outputId": "cac6253f-da4e-4aa9-92b9-d51f9cdb5315"
      },
      "source": [
        "\r\n",
        "# convert the probabilities to class labels\r\n",
        "from keras.applications.vgg16 import preprocess_input, decode_predictions\r\n",
        "label = decode_predictions(y_pred)\r\n",
        "label"
      ],
      "execution_count": 13,
      "outputs": [
        {
          "output_type": "execute_result",
          "data": {
            "text/plain": [
              "[[('n03770679', 'minivan', 0.38745606),\n",
              "  ('n03670208', 'limousine', 0.26397878),\n",
              "  ('n02814533', 'beach_wagon', 0.11257553),\n",
              "  ('n02974003', 'car_wheel', 0.057855923),\n",
              "  ('n03930630', 'pickup', 0.037796322)]]"
            ]
          },
          "metadata": {
            "tags": []
          },
          "execution_count": 13
        }
      ]
    },
    {
      "cell_type": "code",
      "metadata": {
        "id": "zVqA1qeuw-WG"
      },
      "source": [
        ""
      ],
      "execution_count": null,
      "outputs": []
    }
  ]
}